{
 "cells": [
  {
   "cell_type": "markdown",
   "id": "a60f0a89-8071-4997-9da3-e461e43d391b",
   "metadata": {},
   "source": [
    "# COCOMO (Constructive Cost Model)\n",
    "\n",
    "proposed by Barry Boehm in 1981 and is based on the study of 63 projects.\n",
    "https://en.wikipedia.org/wiki/Barry_Boehm\n",
    "\n",
    "The key parameters which define the quality of any software products, which are also an outcome of the Cocomo are:\n",
    "* Effort: Amount of labor that will be required to complete a task. It is measured in person-months.\n",
    "* Schedule: The amount of time required for the completion of the job. It is measured in the units of time"
   ]
  },
  {
   "cell_type": "markdown",
   "id": "d1f5e1a0-5222-4f98-afa4-aecbf930a041",
   "metadata": {},
   "source": [
    "The COCOMO models are defined for three classes of software projects. \n",
    "\n",
    "(1) organic: relatively small, simple software projects in which small teams with good application experience work to a set of less than rigid requirements (e.g., a thermal analysis program developed for a heat transfer group). The problem is well understood and has been solved in the past.\n",
    "\n",
    "(2) semi-detached: an intermediate (in size and complexity) software project in which teams with mixed experience levels must meet a mix of rigid and less than rigid requirements (e.g., a transaction processing system with fixed requirements for terminal hardware and data base software). Compilers or different Embedded Systems can be considered Semi-Detached types.\n",
    "\n",
    "(3) embedded: a software project that must be developed within a set of tight hardware, software and operational constraints (e.g., flight control software for aircraft). highest level of complexity, creativity, and experience.\n",
    "\n",
    "source: https://github.com/vijaynitrr/cocomo and\n",
    "https://www.geeksforgeeks.org/software-engineering-cocomo-model/"
   ]
  },
  {
   "cell_type": "markdown",
   "id": "ed605a8a-b659-4c65-9a6c-b720ff40f539",
   "metadata": {},
   "source": [
    "The Basic COCOMO equations take the form:\n",
    "$$\n",
    "E = a * KLOC^b\n",
    "$$\n",
    "and\n",
    "$$\n",
    "D = c * E^d\n",
    "$$\n",
    "where $E$ is the effort applied in person-months, $D$ is the development time in chronological months and KLOC is the estimated number of delivered lines of code for the project (express in thousands)."
   ]
  },
  {
   "cell_type": "markdown",
   "id": "7336cfd0-3706-4019-bf61-1bcd169fd4aa",
   "metadata": {},
   "source": [
    "Dr. Barry Boehm says that, by default, the confidence interval of COCOMO II model is +/-25%.\n",
    "\n",
    "*source: https://stackoverflow.com/a/38137147/1164295*"
   ]
  },
  {
   "cell_type": "code",
   "execution_count": 1,
   "id": "0decf415-90f0-430a-915c-b99dbb18cdfd",
   "metadata": {},
   "outputs": [],
   "source": [
    "error_percentage = 0.25"
   ]
  },
  {
   "cell_type": "markdown",
   "id": "a7a966bc-f9a8-427e-814c-0fd905d38da3",
   "metadata": {},
   "source": [
    "The model is a combination of formulas and experimentally-determined parameters"
   ]
  },
  {
   "cell_type": "code",
   "execution_count": 2,
   "id": "fccd7724-e18c-428e-9074-efbf0ea1294a",
   "metadata": {},
   "outputs": [],
   "source": [
    "import math"
   ]
  },
  {
   "cell_type": "code",
   "execution_count": 3,
   "id": "813cf543-2796-4505-9372-b2eedda08843",
   "metadata": {},
   "outputs": [],
   "source": [
    "def calculate_cocomo(kloc:int, a: float, b: float, c: float, d: float) -> float:\n",
    "    \"\"\"\n",
    "    from https://github.com/vijaynitrr/cocomo/blob/master/cocomo_code.py#L37\n",
    "    \"\"\"\n",
    "    effort = a * math.pow(kloc, b) # person-months\n",
    "    development_time = c * math.pow(effort, d) # months\n",
    "    staff_count = effort/development_time\n",
    "    return staff_count, development_time"
   ]
  },
  {
   "cell_type": "code",
   "execution_count": 4,
   "id": "523f6ef3-f8ca-4b32-a0b2-926be7ecac30",
   "metadata": {},
   "outputs": [],
   "source": [
    "# Fitting parameter values are from \n",
    "# https://github.com/vijaynitrr/cocomo/blob/master/cocomo_code.py#L17\n",
    "modes = {\"organic\":       {'a': 2.4, 'b': 1.05, 'c': 2.5, 'd': 0.38},\n",
    "         \"semi-detached\": {'a': 3.0, 'b': 1.12, 'c': 2.5, 'd': 0.35},\n",
    "         \"embedded\":      {'a': 3.6, 'b': 1.20, 'c': 2.5, 'd': 0.32}\n",
    "        }"
   ]
  },
  {
   "cell_type": "markdown",
   "id": "5694f712-f92b-498c-a9d8-1564d0f1c5f2",
   "metadata": {},
   "source": [
    "Do the calculation for a user-defined set of input values"
   ]
  },
  {
   "cell_type": "code",
   "execution_count": 5,
   "id": "db1631f7-85ad-4026-9817-1482ae66c96a",
   "metadata": {},
   "outputs": [
    {
     "name": "stdout",
     "output_type": "stream",
     "text": [
      "organic project: 2.6 to 4.3 years (an average of 3.5 years) for 39.3 developers to write 500000 lines of code\n"
     ]
    }
   ],
   "source": [
    "kloc = 500 # thousands of lines of source code\n",
    "which_mode = \"organic\"\n",
    "\n",
    "number_of_developer_FTEs, months = calculate_cocomo(kloc, \n",
    "                                            modes[which_mode]['a'],\n",
    "                                            modes[which_mode]['b'],\n",
    "                                            modes[which_mode]['c'],\n",
    "                                            modes[which_mode]['d'])\n",
    "\n",
    "print(which_mode,'project:',\n",
    "      round((months*(1-error_percentage))/12,1),'to',\n",
    "      round((months*(1+error_percentage))/12,1),'years (an average of',\n",
    "      round(months/12,1),'years) for',\n",
    "      round(number_of_developer_FTEs,1),'developers to write',\n",
    "      kloc*1000,'lines of code')"
   ]
  },
  {
   "cell_type": "markdown",
   "id": "8952e889-ff4e-4076-8c5c-76a0a6564838",
   "metadata": {},
   "source": [
    "# visualize trends"
   ]
  },
  {
   "cell_type": "code",
   "execution_count": 6,
   "id": "e1ae2ce7-65b4-4dde-98b2-7219a4c81eeb",
   "metadata": {},
   "outputs": [],
   "source": [
    "from matplotlib import pyplot as plt\n",
    "import matplotlib\n",
    "import pandas\n",
    "import sys"
   ]
  },
  {
   "cell_type": "code",
   "execution_count": 7,
   "id": "027310ef-7abd-4b35-a7ed-98d788aba298",
   "metadata": {},
   "outputs": [
    {
     "name": "stdout",
     "output_type": "stream",
     "text": [
      "python     3.10.8 | packaged by conda-forge | (main, Nov 22 2022, 08:26:04) [GCC 10.4.0]\n",
      "matplotlib 3.6.2\n",
      "pandas     1.5.2\n"
     ]
    }
   ],
   "source": [
    "print('python    ',sys.version)\n",
    "print('matplotlib',matplotlib.__version__)\n",
    "print('pandas    ',pandas.__version__)"
   ]
  },
  {
   "cell_type": "code",
   "execution_count": 8,
   "id": "b33a4832-877d-409c-9686-ce8b6648e6bd",
   "metadata": {},
   "outputs": [],
   "source": [
    "list_of_dicts = []\n",
    "for mode in modes.keys():\n",
    "    for kloc in range(100,1001,100):\n",
    "        dev_count, months = calculate_cocomo(kloc, \n",
    "                                            modes[mode]['a'],\n",
    "                                            modes[mode]['b'],\n",
    "                                            modes[mode]['c'],\n",
    "                                            modes[mode]['d'])\n",
    "        this_dict = {'mode': mode, \n",
    "                     'kloc': kloc, \n",
    "                     'developer count': dev_count,\n",
    "                     'months average': months,\n",
    "                     'months upper error':months*(1+error_percentage),\n",
    "                     'months lower error':months*(1-error_percentage)}\n",
    "        list_of_dicts.append(this_dict)"
   ]
  },
  {
   "cell_type": "code",
   "execution_count": 9,
   "id": "8317fa76-72df-47dd-ae21-ab0a34aa0c71",
   "metadata": {},
   "outputs": [],
   "source": [
    "df = pandas.DataFrame(list_of_dicts)"
   ]
  },
  {
   "cell_type": "code",
   "execution_count": 10,
   "id": "a44a6481-7795-4515-858c-c3d630acf484",
   "metadata": {},
   "outputs": [
    {
     "data": {
      "text/html": [
       "<div>\n",
       "<style scoped>\n",
       "    .dataframe tbody tr th:only-of-type {\n",
       "        vertical-align: middle;\n",
       "    }\n",
       "\n",
       "    .dataframe tbody tr th {\n",
       "        vertical-align: top;\n",
       "    }\n",
       "\n",
       "    .dataframe thead th {\n",
       "        text-align: right;\n",
       "    }\n",
       "</style>\n",
       "<table border=\"1\" class=\"dataframe\">\n",
       "  <thead>\n",
       "    <tr style=\"text-align: right;\">\n",
       "      <th></th>\n",
       "      <th>mode</th>\n",
       "      <th>kloc</th>\n",
       "      <th>developer count</th>\n",
       "      <th>months average</th>\n",
       "      <th>months upper error</th>\n",
       "      <th>months lower error</th>\n",
       "    </tr>\n",
       "  </thead>\n",
       "  <tbody>\n",
       "    <tr>\n",
       "      <th>0</th>\n",
       "      <td>organic</td>\n",
       "      <td>100</td>\n",
       "      <td>13.797200</td>\n",
       "      <td>21.898798</td>\n",
       "      <td>27.373498</td>\n",
       "      <td>16.424099</td>\n",
       "    </tr>\n",
       "    <tr>\n",
       "      <th>1</th>\n",
       "      <td>organic</td>\n",
       "      <td>200</td>\n",
       "      <td>21.665139</td>\n",
       "      <td>28.875615</td>\n",
       "      <td>36.094519</td>\n",
       "      <td>21.656712</td>\n",
       "    </tr>\n",
       "    <tr>\n",
       "      <th>2</th>\n",
       "      <td>organic</td>\n",
       "      <td>300</td>\n",
       "      <td>28.209598</td>\n",
       "      <td>33.946239</td>\n",
       "      <td>42.432798</td>\n",
       "      <td>25.459679</td>\n",
       "    </tr>\n",
       "    <tr>\n",
       "      <th>3</th>\n",
       "      <td>organic</td>\n",
       "      <td>400</td>\n",
       "      <td>34.019820</td>\n",
       "      <td>38.075202</td>\n",
       "      <td>47.594003</td>\n",
       "      <td>28.556402</td>\n",
       "    </tr>\n",
       "    <tr>\n",
       "      <th>4</th>\n",
       "      <td>organic</td>\n",
       "      <td>500</td>\n",
       "      <td>39.338739</td>\n",
       "      <td>41.620693</td>\n",
       "      <td>52.025867</td>\n",
       "      <td>31.215520</td>\n",
       "    </tr>\n",
       "  </tbody>\n",
       "</table>\n",
       "</div>"
      ],
      "text/plain": [
       "      mode  kloc  developer count  months average  months upper error  \\\n",
       "0  organic   100        13.797200       21.898798           27.373498   \n",
       "1  organic   200        21.665139       28.875615           36.094519   \n",
       "2  organic   300        28.209598       33.946239           42.432798   \n",
       "3  organic   400        34.019820       38.075202           47.594003   \n",
       "4  organic   500        39.338739       41.620693           52.025867   \n",
       "\n",
       "   months lower error  \n",
       "0           16.424099  \n",
       "1           21.656712  \n",
       "2           25.459679  \n",
       "3           28.556402  \n",
       "4           31.215520  "
      ]
     },
     "execution_count": 10,
     "metadata": {},
     "output_type": "execute_result"
    }
   ],
   "source": [
    "df.head()"
   ]
  },
  {
   "cell_type": "code",
   "execution_count": 11,
   "id": "3ef19128-193c-4ca8-98c5-06917d0ecdc4",
   "metadata": {},
   "outputs": [
    {
     "data": {
      "image/png": "[encoded data removed]",
      "text/plain": [
       "<Figure size 640x480 with 1 Axes>"
      ]
     },
     "metadata": {},
     "output_type": "display_data"
    }
   ],
   "source": [
    "for mode in modes.keys():\n",
    "    plt.scatter(x=df[df['mode']==mode]['kloc'],\n",
    "                y=df[df['mode']==mode]['developer count'],\n",
    "               label=mode);\n",
    "plt.xlabel('thousands of lines of source code');\n",
    "plt.ylabel('number of developer FTEs');\n",
    "plt.legend(bbox_to_anchor=(1.04, .5), loc=\"upper left\");\n",
    "plt.title('COCOMO (basic model)');"
   ]
  },
  {
   "cell_type": "code",
   "execution_count": 12,
   "id": "b143b85e-07b2-4469-8891-1f46156b9b05",
   "metadata": {},
   "outputs": [
    {
     "data": {
      "image/png": "[encoded data removed]",
      "text/plain": [
       "<Figure size 640x480 with 1 Axes>"
      ]
     },
     "metadata": {},
     "output_type": "display_data"
    }
   ],
   "source": [
    "for mode in modes.keys():\n",
    "    plt.scatter(x=df[df['mode']==mode]['kloc'],\n",
    "                y=df[df['mode']==mode]['months average'],\n",
    "               label=mode);\n",
    "plt.xlabel('thousands of lines of source code');\n",
    "plt.ylabel('average number of months');\n",
    "plt.legend(bbox_to_anchor=(1.04, .5), loc=\"upper left\");\n",
    "plt.title('COCOMO (basic model)');"
   ]
  },
  {
   "cell_type": "markdown",
   "id": "1f9de2d4-8859-408e-a06e-b2a2f6b9e5d0",
   "metadata": {},
   "source": [
    "# Intermediate COCOMO\n",
    "\n",
    "https://en.wikipedia.org/wiki/COCOMO#Intermediate_COCOMO"
   ]
  },
  {
   "cell_type": "code",
   "execution_count": 13,
   "id": "93c2bcfd-6bc3-4581-8b42-d8819d60a082",
   "metadata": {},
   "outputs": [],
   "source": [
    "def intermediate_cocomo(kloc:int, \n",
    "                        a: float, b: float, c: float, d: float, \n",
    "                        EAF: float) -> float:\n",
    "    \"\"\"\n",
    "    from https://en.wikipedia.org/wiki/COCOMO#Intermediate_COCOMO\n",
    "    \n",
    "    EAF = effort adjustment factor\n",
    "    \"\"\"\n",
    "    effort = a * math.pow(kloc, b) * EAF # effort applied in person-months\n",
    "    development_time = c * math.pow(effort, d) # months\n",
    "    staff_count = effort/development_time\n",
    "    return staff_count, development_time\n"
   ]
  },
  {
   "cell_type": "code",
   "execution_count": 14,
   "id": "acbdc995-60d0-4220-b676-5f1cf3b187aa",
   "metadata": {},
   "outputs": [],
   "source": [
    "modes_for_intermediate = {\"organic\":       {'a': 3.2, 'b': 1.05, 'c': 2.5, 'd': 0.38},\n",
    "                          \"semi-detached\": {'a': 3.0, 'b': 1.12, 'c': 2.5, 'd': 0.35},\n",
    "                          \"embedded\":      {'a': 2.8, 'b': 1.20, 'c': 2.5, 'd': 0.32}\n",
    "                         }"
   ]
  },
  {
   "cell_type": "markdown",
   "id": "8651926b-0a01-44e8-a8a2-1793976f32ef",
   "metadata": {},
   "source": [
    "Do the calculation for a user-defined set of input values"
   ]
  },
  {
   "cell_type": "code",
   "execution_count": 15,
   "id": "6710204b-5d43-4eb5-903d-4515ffb64637",
   "metadata": {},
   "outputs": [
    {
     "name": "stdout",
     "output_type": "stream",
     "text": [
      "using Intermediate COCOMO,\n",
      "organic project: 2.9 to 4.8 years (an average of 3.9 years) for 47.0 developers to write 500000 lines of code\n"
     ]
    }
   ],
   "source": [
    "kloc = 500 # thousands of lines of source code\n",
    "which_mode = \"organic\"\n",
    "EAF = 1 # TODO: this value is the product of 15 parameters; see https://en.wikipedia.org/wiki/COCOMO#Intermediate_COCOMOs\n",
    "\n",
    "number_of_developer_FTEs, months = intermediate_cocomo(kloc, \n",
    "                                            modes_for_intermediate[which_mode]['a'],\n",
    "                                            modes_for_intermediate[which_mode]['b'],\n",
    "                                            modes_for_intermediate[which_mode]['c'],\n",
    "                                            modes_for_intermediate[which_mode]['d'],\n",
    "                                            EAF)\n",
    "\n",
    "print(\"using Intermediate COCOMO,\")\n",
    "print(which_mode,'project:',\n",
    "      round((months*(1-error_percentage))/12,1),'to',\n",
    "      round((months*(1+error_percentage))/12,1),'years (an average of',\n",
    "      round(months/12,1),'years) for',\n",
    "      round(number_of_developer_FTEs,1),'developers to write',\n",
    "      kloc*1000,'lines of code')"
   ]
  },
  {
   "cell_type": "markdown",
   "id": "08de0dc6-4312-4c47-8860-2fba25aaf9bf",
   "metadata": {},
   "source": [
    "# Alternatives to COCOMO"
   ]
  },
  {
   "cell_type": "markdown",
   "id": "b48df65a-0ff4-4a66-93eb-4869166c3258",
   "metadata": {},
   "source": [
    "Models:\n",
    "\n",
    "* The Planning Game\n",
    "* COCOMO / COCOMO II -- see online calculator http://softwarecost.org/tools/COCOMO/\n",
    "* SLIM\n",
    "* SEER-SEM\n",
    "* Weighted Micro Function Points (as used by http://www.projectcodemeter.com)\n",
    "* Program Evaluation and Review Technique\n",
    "* PRICE Systems\n",
    "* Wideband Delphi\n",
    "* Function Point Analysis\n",
    "* Evidence-based Scheduling\n",
    "* REVIC model\n",
    "\n",
    "\n",
    "Methods:\n",
    "* Expert Judgment Method\n",
    "* Analogy Method\n",
    "* Parametric / Algorithmic Method\n",
    "* Bottom-Up/Work Breakdown Structure Method\n",
    "* Top-Down Method\n",
    "* Analysis Effort Method\n",
    "* Proxy-Based Estimation Method\n",
    "\n",
    "Source: https://stackoverflow.com/questions/4879182/what-are-some-of-the-software-cost-estimation-methods-and-models"
   ]
  },
  {
   "cell_type": "code",
   "execution_count": null,
   "id": "e8ba30f8-6aa5-4e65-9fe8-827066e52ceb",
   "metadata": {},
   "outputs": [],
   "source": []
  }
 ],
 "metadata": {
  "kernelspec": {
   "display_name": "Python 3 (ipykernel)",
   "language": "python",
   "name": "python3"
  },
  "language_info": {
   "codemirror_mode": {
    "name": "ipython",
    "version": 3
   },
   "file_extension": ".py",
   "mimetype": "text/x-python",
   "name": "python",
   "nbconvert_exporter": "python",
   "pygments_lexer": "ipython3",
   "version": "3.10.8"
  }
 },
 "nbformat": 4,
 "nbformat_minor": 5
}
